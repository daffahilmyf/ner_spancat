{
 "cells": [
  {
   "cell_type": "code",
   "execution_count": 68,
   "metadata": {},
   "outputs": [],
   "source": [
    "import matplotlib.pyplot as plt\n",
    "import json\n",
    "import jsonlines\n",
    "import random"
   ]
  },
  {
   "cell_type": "code",
   "execution_count": null,
   "metadata": {},
   "outputs": [],
   "source": []
  },
  {
   "cell_type": "code",
   "execution_count": 69,
   "metadata": {},
   "outputs": [],
   "source": [
    "dataset1 = []\n",
    "dataset2 = []\n",
    "\n",
    "filepath = \"./assets/prodigy\"\n",
    "# Load the two datasets\n",
    "with jsonlines.open(f'{filepath}/annotator-1/spacy-format/normalize.jsonl', 'r') as f1, jsonlines.open(f'{filepath}/annotator-2/spacy-format/normalize.jsonl', 'r') as f2:\n",
    "\n",
    "\n",
    "    for data in f1:\n",
    "        if(len(data['accept'])>0):\n",
    "            dataset1.append(data)\n",
    "\n",
    "    for data in f2:\n",
    "        if(len(data['accept'])>0):\n",
    "            dataset2.append(data)"
   ]
  },
  {
   "cell_type": "code",
   "execution_count": 70,
   "metadata": {},
   "outputs": [],
   "source": [
    "def filter_spans_by_label(dataset, labels):\n",
    "    filtered_dataset = []\n",
    "    for example in dataset:\n",
    "        if(\"spans\" in example.keys()):\n",
    "            example_copy = example.copy()\n",
    "            spans = example_copy['spans']\n",
    "            filtered_spans = [span for span in spans if span['label'] in labels]\n",
    "            example_copy['spans'] = filtered_spans\n",
    "            filtered_dataset.append(example_copy)\n",
    "        else:\n",
    "            filtered_dataset.append(example.copy())\n",
    "    return filtered_dataset\n"
   ]
  },
  {
   "cell_type": "code",
   "execution_count": 71,
   "metadata": {},
   "outputs": [],
   "source": [
    "def save_to_jsonl(datasets, filepath):\n",
    "    with open(f'{filepath}', 'w') as f1:\n",
    "        for obj in datasets:\n",
    "            json_str = json.dumps(obj)\n",
    "            f1.write(json_str + '\\n')"
   ]
  },
  {
   "cell_type": "code",
   "execution_count": 72,
   "metadata": {},
   "outputs": [],
   "source": [
    "dataset1_cond = filter_spans_by_label(dataset1, [\"PRECONDITION\", \"POSTCONDITION\"])\n",
    "dataset2_cond = filter_spans_by_label(dataset2, [\"PRECONDITION\", \"POSTCONDITION\"])\n",
    "\n",
    "dataset1_act = filter_spans_by_label(dataset1, [\"ACTOR\"])\n",
    "dataset2_act = filter_spans_by_label(dataset2, [\"ACTOR\"])"
   ]
  },
  {
   "cell_type": "code",
   "execution_count": 73,
   "metadata": {},
   "outputs": [],
   "source": [
    "\n",
    "save_to_jsonl(dataset1_cond, \"./assets/prodigy/annotator-1/spacy-format/non-overlap/normalize-cond.jsonl\")\n",
    "save_to_jsonl(dataset2_cond, \"./assets/prodigy/annotator-2/spacy-format/non-overlap/normalize-cond.jsonl\")\n",
    "save_to_jsonl(dataset1_act, \"./assets/prodigy/annotator-1/spacy-format/non-overlap/normalize-act.jsonl\")\n",
    "save_to_jsonl(dataset1_act, \"./assets/prodigy/annotator-2/spacy-format/non-overlap/normalize-act.jsonl\")"
   ]
  }
 ],
 "metadata": {
  "kernelspec": {
   "display_name": "base",
   "language": "python",
   "name": "python3"
  },
  "language_info": {
   "codemirror_mode": {
    "name": "ipython",
    "version": 3
   },
   "file_extension": ".py",
   "mimetype": "text/x-python",
   "name": "python",
   "nbconvert_exporter": "python",
   "pygments_lexer": "ipython3",
   "version": "3.9.13"
  },
  "orig_nbformat": 4
 },
 "nbformat": 4,
 "nbformat_minor": 2
}
